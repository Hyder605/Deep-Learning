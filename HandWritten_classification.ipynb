{
  "nbformat": 4,
  "nbformat_minor": 0,
  "metadata": {
    "colab": {
      "provenance": []
    },
    "kernelspec": {
      "name": "python3",
      "display_name": "Python 3"
    },
    "language_info": {
      "name": "python"
    }
  },
  "cells": [
    {
      "cell_type": "code",
      "execution_count": null,
      "metadata": {
        "id": "erhCJ7PW1lnM"
      },
      "outputs": [],
      "source": []
    },
    {
      "cell_type": "code",
      "execution_count": null,
      "metadata": {
        "colab": {
          "base_uri": "https://localhost:8080/"
        },
        "id": "GS0c8ZvDwjoA",
        "outputId": "c8ee9d88-dd78-49b1-90e7-5d32b8f6ddb7"
      },
      "outputs": [
        {
          "output_type": "stream",
          "name": "stdout",
          "text": [
            "Looking in indexes: https://pypi.org/simple, https://us-python.pkg.dev/colab-wheels/public/simple/\n",
            "Requirement already satisfied: tensorflow in /usr/local/lib/python3.9/dist-packages (2.12.0)\n",
            "Requirement already satisfied: grpcio<2.0,>=1.24.3 in /usr/local/lib/python3.9/dist-packages (from tensorflow) (1.53.0)\n",
            "Requirement already satisfied: tensorboard<2.13,>=2.12 in /usr/local/lib/python3.9/dist-packages (from tensorflow) (2.12.0)\n",
            "Requirement already satisfied: protobuf!=4.21.0,!=4.21.1,!=4.21.2,!=4.21.3,!=4.21.4,!=4.21.5,<5.0.0dev,>=3.20.3 in /usr/local/lib/python3.9/dist-packages (from tensorflow) (3.20.3)\n",
            "Requirement already satisfied: h5py>=2.9.0 in /usr/local/lib/python3.9/dist-packages (from tensorflow) (3.8.0)\n",
            "Requirement already satisfied: numpy<1.24,>=1.22 in /usr/local/lib/python3.9/dist-packages (from tensorflow) (1.22.4)\n",
            "Requirement already satisfied: tensorflow-estimator<2.13,>=2.12.0 in /usr/local/lib/python3.9/dist-packages (from tensorflow) (2.12.0)\n",
            "Requirement already satisfied: gast<=0.4.0,>=0.2.1 in /usr/local/lib/python3.9/dist-packages (from tensorflow) (0.4.0)\n",
            "Requirement already satisfied: termcolor>=1.1.0 in /usr/local/lib/python3.9/dist-packages (from tensorflow) (2.2.0)\n",
            "Requirement already satisfied: wrapt<1.15,>=1.11.0 in /usr/local/lib/python3.9/dist-packages (from tensorflow) (1.14.1)\n",
            "Requirement already satisfied: tensorflow-io-gcs-filesystem>=0.23.1 in /usr/local/lib/python3.9/dist-packages (from tensorflow) (0.32.0)\n",
            "Requirement already satisfied: opt-einsum>=2.3.2 in /usr/local/lib/python3.9/dist-packages (from tensorflow) (3.3.0)\n",
            "Requirement already satisfied: astunparse>=1.6.0 in /usr/local/lib/python3.9/dist-packages (from tensorflow) (1.6.3)\n",
            "Requirement already satisfied: setuptools in /usr/local/lib/python3.9/dist-packages (from tensorflow) (67.6.1)\n",
            "Requirement already satisfied: jax>=0.3.15 in /usr/local/lib/python3.9/dist-packages (from tensorflow) (0.4.7)\n",
            "Requirement already satisfied: packaging in /usr/local/lib/python3.9/dist-packages (from tensorflow) (23.0)\n",
            "Requirement already satisfied: typing-extensions>=3.6.6 in /usr/local/lib/python3.9/dist-packages (from tensorflow) (4.5.0)\n",
            "Requirement already satisfied: six>=1.12.0 in /usr/local/lib/python3.9/dist-packages (from tensorflow) (1.16.0)\n",
            "Requirement already satisfied: libclang>=13.0.0 in /usr/local/lib/python3.9/dist-packages (from tensorflow) (16.0.0)\n",
            "Requirement already satisfied: google-pasta>=0.1.1 in /usr/local/lib/python3.9/dist-packages (from tensorflow) (0.2.0)\n",
            "Requirement already satisfied: flatbuffers>=2.0 in /usr/local/lib/python3.9/dist-packages (from tensorflow) (23.3.3)\n",
            "Requirement already satisfied: absl-py>=1.0.0 in /usr/local/lib/python3.9/dist-packages (from tensorflow) (1.4.0)\n",
            "Requirement already satisfied: keras<2.13,>=2.12.0 in /usr/local/lib/python3.9/dist-packages (from tensorflow) (2.12.0)\n",
            "Requirement already satisfied: wheel<1.0,>=0.23.0 in /usr/local/lib/python3.9/dist-packages (from astunparse>=1.6.0->tensorflow) (0.40.0)\n",
            "Requirement already satisfied: ml-dtypes>=0.0.3 in /usr/local/lib/python3.9/dist-packages (from jax>=0.3.15->tensorflow) (0.0.4)\n",
            "Requirement already satisfied: scipy>=1.7 in /usr/local/lib/python3.9/dist-packages (from jax>=0.3.15->tensorflow) (1.10.1)\n",
            "Requirement already satisfied: markdown>=2.6.8 in /usr/local/lib/python3.9/dist-packages (from tensorboard<2.13,>=2.12->tensorflow) (3.4.3)\n",
            "Requirement already satisfied: tensorboard-data-server<0.8.0,>=0.7.0 in /usr/local/lib/python3.9/dist-packages (from tensorboard<2.13,>=2.12->tensorflow) (0.7.0)\n",
            "Requirement already satisfied: werkzeug>=1.0.1 in /usr/local/lib/python3.9/dist-packages (from tensorboard<2.13,>=2.12->tensorflow) (2.2.3)\n",
            "Requirement already satisfied: tensorboard-plugin-wit>=1.6.0 in /usr/local/lib/python3.9/dist-packages (from tensorboard<2.13,>=2.12->tensorflow) (1.8.1)\n",
            "Requirement already satisfied: google-auth<3,>=1.6.3 in /usr/local/lib/python3.9/dist-packages (from tensorboard<2.13,>=2.12->tensorflow) (2.17.0)\n",
            "Requirement already satisfied: requests<3,>=2.21.0 in /usr/local/lib/python3.9/dist-packages (from tensorboard<2.13,>=2.12->tensorflow) (2.27.1)\n",
            "Requirement already satisfied: google-auth-oauthlib<0.5,>=0.4.1 in /usr/local/lib/python3.9/dist-packages (from tensorboard<2.13,>=2.12->tensorflow) (0.4.6)\n",
            "Requirement already satisfied: cachetools<6.0,>=2.0.0 in /usr/local/lib/python3.9/dist-packages (from google-auth<3,>=1.6.3->tensorboard<2.13,>=2.12->tensorflow) (5.3.0)\n",
            "Requirement already satisfied: rsa<5,>=3.1.4 in /usr/local/lib/python3.9/dist-packages (from google-auth<3,>=1.6.3->tensorboard<2.13,>=2.12->tensorflow) (4.9)\n",
            "Requirement already satisfied: pyasn1-modules>=0.2.1 in /usr/local/lib/python3.9/dist-packages (from google-auth<3,>=1.6.3->tensorboard<2.13,>=2.12->tensorflow) (0.2.8)\n",
            "Requirement already satisfied: requests-oauthlib>=0.7.0 in /usr/local/lib/python3.9/dist-packages (from google-auth-oauthlib<0.5,>=0.4.1->tensorboard<2.13,>=2.12->tensorflow) (1.3.1)\n",
            "Requirement already satisfied: importlib-metadata>=4.4 in /usr/local/lib/python3.9/dist-packages (from markdown>=2.6.8->tensorboard<2.13,>=2.12->tensorflow) (6.1.0)\n",
            "Requirement already satisfied: idna<4,>=2.5 in /usr/local/lib/python3.9/dist-packages (from requests<3,>=2.21.0->tensorboard<2.13,>=2.12->tensorflow) (3.4)\n",
            "Requirement already satisfied: certifi>=2017.4.17 in /usr/local/lib/python3.9/dist-packages (from requests<3,>=2.21.0->tensorboard<2.13,>=2.12->tensorflow) (2022.12.7)\n",
            "Requirement already satisfied: urllib3<1.27,>=1.21.1 in /usr/local/lib/python3.9/dist-packages (from requests<3,>=2.21.0->tensorboard<2.13,>=2.12->tensorflow) (1.26.15)\n",
            "Requirement already satisfied: charset-normalizer~=2.0.0 in /usr/local/lib/python3.9/dist-packages (from requests<3,>=2.21.0->tensorboard<2.13,>=2.12->tensorflow) (2.0.12)\n",
            "Requirement already satisfied: MarkupSafe>=2.1.1 in /usr/local/lib/python3.9/dist-packages (from werkzeug>=1.0.1->tensorboard<2.13,>=2.12->tensorflow) (2.1.2)\n",
            "Requirement already satisfied: zipp>=0.5 in /usr/local/lib/python3.9/dist-packages (from importlib-metadata>=4.4->markdown>=2.6.8->tensorboard<2.13,>=2.12->tensorflow) (3.15.0)\n",
            "Requirement already satisfied: pyasn1<0.5.0,>=0.4.6 in /usr/local/lib/python3.9/dist-packages (from pyasn1-modules>=0.2.1->google-auth<3,>=1.6.3->tensorboard<2.13,>=2.12->tensorflow) (0.4.8)\n",
            "Requirement already satisfied: oauthlib>=3.0.0 in /usr/local/lib/python3.9/dist-packages (from requests-oauthlib>=0.7.0->google-auth-oauthlib<0.5,>=0.4.1->tensorboard<2.13,>=2.12->tensorflow) (3.2.2)\n"
          ]
        }
      ],
      "source": [
        "!pip install tensorflow"
      ]
    },
    {
      "cell_type": "code",
      "execution_count": null,
      "metadata": {
        "colab": {
          "base_uri": "https://localhost:8080/"
        },
        "id": "6qwdGncawjoA",
        "outputId": "9ed7c022-1904-471a-aabf-2abf423573bd"
      },
      "outputs": [
        {
          "output_type": "stream",
          "name": "stdout",
          "text": [
            "2.12.0\n"
          ]
        }
      ],
      "source": [
        "import tensorflow\n",
        "print(tensorflow.__version__)"
      ]
    },
    {
      "cell_type": "code",
      "execution_count": null,
      "metadata": {
        "id": "Jzv-aA8hwjoB"
      },
      "outputs": [],
      "source": [
        "from tensorflow.keras.datasets import mnist"
      ]
    },
    {
      "cell_type": "code",
      "source": [],
      "metadata": {
        "id": "ncR6Crte2SMy"
      },
      "execution_count": null,
      "outputs": []
    },
    {
      "cell_type": "code",
      "execution_count": null,
      "metadata": {
        "colab": {
          "base_uri": "https://localhost:8080/"
        },
        "id": "FejBoTjiwjoB",
        "outputId": "5597cf1e-b653-4742-a93d-8136293755d2"
      },
      "outputs": [
        {
          "output_type": "stream",
          "name": "stdout",
          "text": [
            "Downloading data from https://storage.googleapis.com/tensorflow/tf-keras-datasets/mnist.npz\n",
            "11490434/11490434 [==============================] - 0s 0us/step\n"
          ]
        }
      ],
      "source": [
        "(train_images,train_labels),(test_images,test_labels)=mnist.load_data()"
      ]
    },
    {
      "cell_type": "code",
      "execution_count": null,
      "metadata": {
        "id": "qxDcpIkjwjoB"
      },
      "outputs": [],
      "source": [
        "from tensorflow.keras import models\n",
        "from tensorflow.keras import layers"
      ]
    },
    {
      "cell_type": "code",
      "execution_count": null,
      "metadata": {
        "id": "cVPZ7n9CwjoC"
      },
      "outputs": [],
      "source": [
        "network=models.Sequential() #Sequential model ma aik layer ky uper dusra layer stack hota ha"
      ]
    },
    {
      "cell_type": "code",
      "execution_count": null,
      "metadata": {
        "id": "UQH7caVTwjoD"
      },
      "outputs": [],
      "source": [
        "# here input layer=784(28*28) \n",
        "# middle/hidden layer=512\n",
        "#output layer=10\n",
        "#Activation function that transform linearity into non-linearity\n",
        "network.add(layers.Dense(512,activation=\"relu\",input_shape=(784,))) \n",
        "network.add(layers.Dense(10,activation=\"softmax\"))"
      ]
    },
    {
      "cell_type": "code",
      "execution_count": null,
      "metadata": {
        "colab": {
          "base_uri": "https://localhost:8080/"
        },
        "id": "a-dKe3K8wjoD",
        "outputId": "a3dfea5e-38ae-4ebf-faea-522b3781a611"
      },
      "outputs": [
        {
          "output_type": "stream",
          "name": "stdout",
          "text": [
            "paramsss= 401920\n",
            "Model: \"sequential\"\n",
            "_________________________________________________________________\n",
            " Layer (type)                Output Shape              Param #   \n",
            "=================================================================\n",
            " dense (Dense)               (None, 512)               401920    \n",
            "                                                                 \n",
            " dense_1 (Dense)             (None, 10)                5130      \n",
            "                                                                 \n",
            "=================================================================\n",
            "Total params: 407,050\n",
            "Trainable params: 407,050\n",
            "Non-trainable params: 0\n",
            "_________________________________________________________________\n"
          ]
        }
      ],
      "source": [
        "num_parameter=(784*512)+512\n",
        "print(\"paramsss=\",num_parameter)\n",
        "network.summary()"
      ]
    },
    {
      "cell_type": "markdown",
      "metadata": {
        "id": "phWA2cCXwjoE"
      },
      "source": [
        "In deep learning, \"param\" typically refers to the number of parameters (weights and biases) in a given layer of a neural network.\n",
        "\n",
        "Each neuron in a layer is connected to all neurons in the previous layer, and each connection has a weight. Therefore, the number of weights in a layer is equal to the number of neurons in the current layer multiplied by the number of neurons in the previous layer. For example, if a layer has 256 neurons and the previous layer has 128 neurons, then there are 256*128 = 32,768 weights in that layer.\n",
        "\n",
        "Additionally, each neuron in a layer also has a bias term, which is a constant value added to the weighted sum of inputs to the neuron. Therefore, the number of biases in a layer is equal to the number of neurons in that layer. For example, if a layer has 256 neurons, then there are 256 biases in that layer.\n",
        "\n",
        "The total number of parameters in a layer is the sum of the number of weights and the number of biases. In the example above, the first dense layer has 401920 parameters because it has 784*512 (weights from 784 input neurons) + 256 (biases) = 401920 parameters.\n",
        "\n",
        "So when you see the term \"params\" in the output of a neural network model summary, it typically refers to the number of learnable parameters (weights and biases) in each layer of the network. The number of parameters in a layer can affect the size and complexity of the model, and thus its performance and training time. In general, having too few parameters may result in underfitting, while having too many parameters may result in overfitting.\n"
      ]
    },
    {
      "cell_type": "code",
      "execution_count": null,
      "metadata": {
        "id": "GPX2dYwAwjoE"
      },
      "outputs": [],
      "source": [
        "#densely connected mean every neuron is conncected to every other neuron\n",
        "#10 classes(1-10)is liye last layer ma 10 rakha\n",
        "#softmax ===>10 probabality score generate kary ga jin ka sum 1 hoga.aor jis probablity ki valur zyda hogi wo (1-10 digits) ma sy hoga\n",
        "\t\t\t#returns the probability scores of each class.\n",
        "#multiclassification ky lia \"Softmax\" ka use \n",
        "\n",
        "\n"
      ]
    },
    {
      "cell_type": "code",
      "execution_count": null,
      "metadata": {
        "id": "kFbYWj9KwjoE"
      },
      "outputs": [],
      "source": [
        "#ANN---Artificial Neural Network--->>> images,numbers,videos,voices,text etc\n",
        "#CNN--- Convutional Neural Network---->>.IMages\n",
        "#RNN----->>>Text\n",
        "# GAN---> Genration  "
      ]
    },
    {
      "cell_type": "markdown",
      "metadata": {
        "id": "n85AY3tSwjoF"
      },
      "source": [
        "- Optimizer is an algorithm used to update the weights and biases of a neural network during the training process. The goal of optimization is to minimize a loss function, which measures the difference between the predicted outputs of the network and the true labels.\n",
        "\n",
        "- for binary classification:\n",
        "\t\t* we use binaray_crossentropy\n",
        "- for multiclass (like we have 10 classes(1-10):\n",
        "\t\t* we use categorical_crossentropy"
      ]
    },
    {
      "cell_type": "code",
      "execution_count": null,
      "metadata": {
        "id": "Fgq4J_BQwjoF"
      },
      "outputs": [],
      "source": [
        " network.compile(optimizer=\"rmsprop\",loss=\"categorical_crossentropy\",metrics=[\"accuracy\"])\n",
        " #if we use loss=sparse_categorical_crossentropy then we don't need to one hot encoding"
      ]
    },
    {
      "cell_type": "code",
      "execution_count": null,
      "metadata": {
        "colab": {
          "base_uri": "https://localhost:8080/"
        },
        "id": "Ip2G6xuGwjoF",
        "outputId": "3647ab7b-0d46-4d4e-99fa-e63ce2176441"
      },
      "outputs": [
        {
          "output_type": "execute_result",
          "data": {
            "text/plain": [
              "(60000, 28, 28)"
            ]
          },
          "metadata": {},
          "execution_count": 12
        }
      ],
      "source": [
        "##Preprocessing\n",
        "train_images.shape"
      ]
    },
    {
      "cell_type": "code",
      "execution_count": null,
      "metadata": {
        "id": "Gtsa8XuzwjoG"
      },
      "outputs": [],
      "source": [
        "##Preprocessing Converting 3dimensional in to vector \n",
        "train_images=train_images.reshape((60000,28*28)) #Vector data(samples,features)\n",
        "train_images=train_images.astype('float')/255  #Scaling down the image in range (0-1)"
      ]
    },
    {
      "cell_type": "code",
      "execution_count": null,
      "metadata": {
        "id": "JVpqCkhDwjoH"
      },
      "outputs": [],
      "source": [
        "test_images=test_images.reshape((10000,28*28)) #converting 28*28 into like this [1,2,3.....784]\n",
        "test_images=test_images.astype('float')/255"
      ]
    },
    {
      "cell_type": "code",
      "execution_count": null,
      "metadata": {
        "id": "sK_ZUschwjoI"
      },
      "outputs": [],
      "source": [
        "#Labels must be converted into category\n",
        "#while features must be in numerical values"
      ]
    },
    {
      "cell_type": "code",
      "execution_count": null,
      "metadata": {
        "id": "Zpt0sGf6wjoJ"
      },
      "outputs": [],
      "source": [
        " #if we use loss=sparse_categorical_crossentropy in above steps then we don't need to one hot encoding\n",
        "#converting labels into Categorical(One Hot Encoding) as we have ten class/category here(1-10)\n",
        "#Number b reahy aor category b bn jye\n",
        "from tensorflow.keras.utils import to_categorical #(sckitllearn--->onehotencoder , Pandas--->pd.get_dummies)\n",
        "train_labels=to_categorical(train_labels)\n",
        "test_labels=to_categorical(test_labels)"
      ]
    },
    {
      "cell_type": "code",
      "execution_count": null,
      "metadata": {
        "colab": {
          "base_uri": "https://localhost:8080/"
        },
        "id": "hCZExESmwjoK",
        "outputId": "72abcfec-f99e-4226-aec4-cb9e8f8348a3"
      },
      "outputs": [
        {
          "output_type": "execute_result",
          "data": {
            "text/plain": [
              "array([0., 0., 0., 0., 0., 1., 0., 0., 0., 0.], dtype=float32)"
            ]
          },
          "metadata": {},
          "execution_count": 17
        }
      ],
      "source": [
        "train_labels[0]"
      ]
    },
    {
      "cell_type": "code",
      "execution_count": null,
      "metadata": {
        "colab": {
          "base_uri": "https://localhost:8080/"
        },
        "id": "-3Aw0tCSwjoK",
        "outputId": "7ee6e9a6-d243-45f6-8b7d-c5f39ca9bab6"
      },
      "outputs": [
        {
          "output_type": "stream",
          "name": "stdout",
          "text": [
            "Epoch 1/5\n",
            "469/469 [==============================] - 7s 13ms/step - loss: 0.2675 - accuracy: 0.9232\n",
            "Epoch 2/5\n",
            "469/469 [==============================] - 5s 12ms/step - loss: 0.1070 - accuracy: 0.9687\n",
            "Epoch 3/5\n",
            "469/469 [==============================] - 6s 12ms/step - loss: 0.0710 - accuracy: 0.9790\n",
            "Epoch 4/5\n",
            "469/469 [==============================] - 4s 10ms/step - loss: 0.0512 - accuracy: 0.9848\n",
            "Epoch 5/5\n",
            "469/469 [==============================] - 4s 10ms/step - loss: 0.0388 - accuracy: 0.9880\n"
          ]
        },
        {
          "output_type": "execute_result",
          "data": {
            "text/plain": [
              "<keras.callbacks.History at 0x7f439f9e7d90>"
            ]
          },
          "metadata": {},
          "execution_count": 18
        }
      ],
      "source": [
        "network.fit(train_images,train_labels,epochs=5,batch_size=128)\n",
        "\n",
        "#an epoch is one iteration of the training process where the model has seen the entire dataset once.5 iteration where every time model has seen the entire dataset\n",
        "#The batch size refers to the number of samples that are processed by the model in one forward/backward pass.\n",
        "#To break it down further, if the training dataset contains 1000 samples, \n",
        "\t#there will be 8 batches of 128 samples each and 1 batch of 40 samples in the last epoch.\n",
        "    #The model will be trained on each batch for one forward and backward pass, and \n",
        "    #the weights will be updated based on the errors made on that batch. \n",
        "    #After training on all batches in an epoch, the weights will be updated and the process will be repeated for \n",
        "    #the next epoch until 5 epochs have been completed.\n",
        "    #his process will be repeated for 5 epochs, which means that the model will \n",
        "    #see the entire training dataset 5 times during the training process.\n",
        " #batch_size also relates to timing to take the fitting process.\n",
        " #Epochs relates ---> Overfitting, underfitting and Generalization\n",
        "       # -unncessary increase in epoch make the model Overfitting because of memorization"
      ]
    },
    {
      "cell_type": "code",
      "execution_count": null,
      "metadata": {
        "colab": {
          "base_uri": "https://localhost:8080/"
        },
        "id": "KKc11DOiwjoL",
        "outputId": "a11c27d3-315d-42b0-fb1c-cf2c758cc293"
      },
      "outputs": [
        {
          "output_type": "stream",
          "name": "stdout",
          "text": [
            "313/313 [==============================] - 1s 3ms/step - loss: 0.0659 - accuracy: 0.9804\n",
            "test_acc: 0.980400025844574\n"
          ]
        }
      ],
      "source": [
        "test_loss,test_acc= network.evaluate(test_images, test_labels)\n",
        "print(\"test_acc:\",test_acc)"
      ]
    },
    {
      "cell_type": "code",
      "execution_count": null,
      "metadata": {
        "colab": {
          "base_uri": "https://localhost:8080/",
          "height": 265
        },
        "id": "23YGPpBjwjoL",
        "outputId": "20d245a5-ff0f-412f-f182-8529dc4fcb2e"
      },
      "outputs": [
        {
          "output_type": "display_data",
          "data": {
            "text/plain": [
              "<Figure size 432x288 with 1 Axes>"
            ],
            "image/png": "[encoded data removed]"
          },
          "metadata": {
            "needs_background": "light"
          }
        }
      ],
      "source": [
        "digit=train_images[0].reshape(28,28)*255 #converting again into 2D  \n",
        "import matplotlib.pyplot as plt\n",
        "plt.imshow(digit,cmap=plt.cm.binary)\n",
        "plt.show()"
      ]
    },
    {
      "cell_type": "code",
      "execution_count": null,
      "metadata": {
        "colab": {
          "base_uri": "https://localhost:8080/",
          "height": 339
        },
        "id": "kXpsqIHAwjoM",
        "outputId": "fe2ee709-f686-4d1d-adb2-3123cb4e4535"
      },
      "outputs": [
        {
          "output_type": "error",
          "ename": "ImportError",
          "evalue": "ignored",
          "traceback": [
            "\u001b[0;31m---------------------------------------------------------------------------\u001b[0m",
            "\u001b[0;31mImportError\u001b[0m                               Traceback (most recent call last)",
            "\u001b[0;32m<ipython-input-24-893188c35fc5>\u001b[0m in \u001b[0;36m<module>\u001b[0;34m\u001b[0m\n\u001b[0;32m----> 1\u001b[0;31m \u001b[0;32mfrom\u001b[0m \u001b[0mPIL\u001b[0m \u001b[0;32mimport\u001b[0m \u001b[0mimage\u001b[0m\u001b[0;34m\u001b[0m\u001b[0;34m\u001b[0m\u001b[0m\n\u001b[0m\u001b[1;32m      2\u001b[0m \u001b[0mimg\u001b[0m\u001b[0;34m=\u001b[0m\u001b[0mImage\u001b[0m\u001b[0;34m.\u001b[0m\u001b[0mopen\u001b[0m\u001b[0;34m(\u001b[0m\u001b[0;34m\"OIP.jpg\"\u001b[0m\u001b[0;34m)\u001b[0m\u001b[0;34m.\u001b[0m\u001b[0mconvert\u001b[0m\u001b[0;34m(\u001b[0m\u001b[0;34m'L'\u001b[0m\u001b[0;34m)\u001b[0m \u001b[0;31m#open image and converting into grayscale\u001b[0m\u001b[0;34m\u001b[0m\u001b[0;34m\u001b[0m\u001b[0m\n\u001b[1;32m      3\u001b[0m \u001b[0mimg\u001b[0m\u001b[0;34m.\u001b[0m\u001b[0msave\u001b[0m\u001b[0;34m(\u001b[0m\u001b[0;34m'pil-greyscale.png'\u001b[0m\u001b[0;34m)\u001b[0m \u001b[0;31m#saving image\u001b[0m\u001b[0;34m\u001b[0m\u001b[0;34m\u001b[0m\u001b[0m\n",
            "\u001b[0;31mImportError\u001b[0m: cannot import name 'image' from 'PIL' (/usr/local/lib/python3.9/dist-packages/PIL/__init__.py)",
            "",
            "\u001b[0;31m---------------------------------------------------------------------------\u001b[0;32m\nNOTE: If your import is failing due to a missing package, you can\nmanually install dependencies using either !pip or !apt.\n\nTo view examples of installing some common dependencies, click the\n\"Open Examples\" button below.\n\u001b[0;31m---------------------------------------------------------------------------\u001b[0m\n"
          ],
          "errorDetails": {
            "actions": [
              {
                "action": "open_url",
                "actionText": "Open Examples",
                "url": "/notebooks/snippets/importing_libraries.ipynb"
              }
            ]
          }
        }
      ],
      "source": [
        "from PIL import image\n",
        "img=Image.open(\"OIP.jpg\").convert('L') #open image and converting into grayscale\n",
        "img.save('pil-greyscale.png') #saving image"
      ]
    },
    {
      "cell_type": "code",
      "execution_count": null,
      "metadata": {
        "colab": {
          "base_uri": "https://localhost:8080/",
          "height": 130
        },
        "id": "i7tYcRI-wjoN",
        "outputId": "c34b1ae2-cc94-4c74-ea29-44c3d2224760"
      },
      "outputs": [
        {
          "output_type": "error",
          "ename": "SyntaxError",
          "evalue": "ignored",
          "traceback": [
            "\u001b[0;36m  File \u001b[0;32m\"<ipython-input-25-f0406fda6822>\"\u001b[0;36m, line \u001b[0;32m3\u001b[0m\n\u001b[0;31m    form skimage import io\u001b[0m\n\u001b[0m         ^\u001b[0m\n\u001b[0;31mSyntaxError\u001b[0m\u001b[0;31m:\u001b[0m invalid syntax\n"
          ]
        }
      ],
      "source": [
        "   #OR# another method to open and save the image\n",
        "from skimage import color\n",
        "form skimage import io\n",
        "read_image=io.imread(\"OIP.jpg\") #opening image\n",
        "img=color.rgb2gray(read_image)  #converting image\n",
        "io.imsave(\"pil-grayscale2.png\",img) #saving image in var img"
      ]
    },
    {
      "cell_type": "code",
      "execution_count": null,
      "metadata": {
        "id": "8LkSSS3fwjoO"
      },
      "outputs": [],
      "source": [
        "   ###OR#### Another way to load image\n",
        "from tensorflow.keras.preprocessing import image"
      ]
    },
    {
      "cell_type": "code",
      "execution_count": null,
      "metadata": {
        "colab": {
          "base_uri": "https://localhost:8080/",
          "height": 304
        },
        "id": "X8r6ilwowjoP",
        "outputId": "fb791817-9e6a-43cc-a461-6e27a052882a"
      },
      "outputs": [
        {
          "output_type": "error",
          "ename": "FileNotFoundError",
          "evalue": "ignored",
          "traceback": [
            "\u001b[0;31m---------------------------------------------------------------------------\u001b[0m",
            "\u001b[0;31mFileNotFoundError\u001b[0m                         Traceback (most recent call last)",
            "\u001b[0;32m<ipython-input-27-eb4e8ca58ee4>\u001b[0m in \u001b[0;36m<module>\u001b[0;34m\u001b[0m\n\u001b[1;32m      1\u001b[0m \u001b[0;31m##loading the image and croping the image in the size 28,28\u001b[0m\u001b[0;34m\u001b[0m\u001b[0;34m\u001b[0m\u001b[0m\n\u001b[0;32m----> 2\u001b[0;31m \u001b[0mimg\u001b[0m\u001b[0;34m=\u001b[0m\u001b[0mimage\u001b[0m\u001b[0;34m.\u001b[0m\u001b[0mload_img\u001b[0m\u001b[0;34m(\u001b[0m\u001b[0;34m\"pil-greyscale2.png\"\u001b[0m\u001b[0;34m,\u001b[0m\u001b[0mtarget_size\u001b[0m\u001b[0;34m=\u001b[0m\u001b[0;34m(\u001b[0m\u001b[0;36m128\u001b[0m\u001b[0;34m,\u001b[0m\u001b[0;36m128\u001b[0m\u001b[0;34m)\u001b[0m\u001b[0;34m)\u001b[0m\u001b[0;34m\u001b[0m\u001b[0;34m\u001b[0m\u001b[0m\n\u001b[0m",
            "\u001b[0;32m/usr/local/lib/python3.9/dist-packages/keras/utils/image_utils.py\u001b[0m in \u001b[0;36mload_img\u001b[0;34m(path, grayscale, color_mode, target_size, interpolation, keep_aspect_ratio)\u001b[0m\n\u001b[1;32m    420\u001b[0m         \u001b[0;32mif\u001b[0m \u001b[0misinstance\u001b[0m\u001b[0;34m(\u001b[0m\u001b[0mpath\u001b[0m\u001b[0;34m,\u001b[0m \u001b[0mpathlib\u001b[0m\u001b[0;34m.\u001b[0m\u001b[0mPath\u001b[0m\u001b[0;34m)\u001b[0m\u001b[0;34m:\u001b[0m\u001b[0;34m\u001b[0m\u001b[0;34m\u001b[0m\u001b[0m\n\u001b[1;32m    421\u001b[0m             \u001b[0mpath\u001b[0m \u001b[0;34m=\u001b[0m \u001b[0mstr\u001b[0m\u001b[0;34m(\u001b[0m\u001b[0mpath\u001b[0m\u001b[0;34m.\u001b[0m\u001b[0mresolve\u001b[0m\u001b[0;34m(\u001b[0m\u001b[0;34m)\u001b[0m\u001b[0;34m)\u001b[0m\u001b[0;34m\u001b[0m\u001b[0;34m\u001b[0m\u001b[0m\n\u001b[0;32m--> 422\u001b[0;31m         \u001b[0;32mwith\u001b[0m \u001b[0mopen\u001b[0m\u001b[0;34m(\u001b[0m\u001b[0mpath\u001b[0m\u001b[0;34m,\u001b[0m \u001b[0;34m\"rb\"\u001b[0m\u001b[0;34m)\u001b[0m \u001b[0;32mas\u001b[0m \u001b[0mf\u001b[0m\u001b[0;34m:\u001b[0m\u001b[0;34m\u001b[0m\u001b[0;34m\u001b[0m\u001b[0m\n\u001b[0m\u001b[1;32m    423\u001b[0m             \u001b[0mimg\u001b[0m \u001b[0;34m=\u001b[0m \u001b[0mpil_image\u001b[0m\u001b[0;34m.\u001b[0m\u001b[0mopen\u001b[0m\u001b[0;34m(\u001b[0m\u001b[0mio\u001b[0m\u001b[0;34m.\u001b[0m\u001b[0mBytesIO\u001b[0m\u001b[0;34m(\u001b[0m\u001b[0mf\u001b[0m\u001b[0;34m.\u001b[0m\u001b[0mread\u001b[0m\u001b[0;34m(\u001b[0m\u001b[0;34m)\u001b[0m\u001b[0;34m)\u001b[0m\u001b[0;34m)\u001b[0m\u001b[0;34m\u001b[0m\u001b[0;34m\u001b[0m\u001b[0m\n\u001b[1;32m    424\u001b[0m     \u001b[0;32melse\u001b[0m\u001b[0;34m:\u001b[0m\u001b[0;34m\u001b[0m\u001b[0;34m\u001b[0m\u001b[0m\n",
            "\u001b[0;31mFileNotFoundError\u001b[0m: [Errno 2] No such file or directory: 'pil-greyscale2.png'"
          ]
        }
      ],
      "source": [
        "##loading the image and croping the image in the size 28,28 \n",
        "img=image.load_img(\"pil-greyscale2.png\",target_size=(128,128))"
      ]
    },
    {
      "cell_type": "code",
      "execution_count": null,
      "metadata": {
        "colab": {
          "base_uri": "https://localhost:8080/",
          "height": 165
        },
        "id": "vGv6cCn8wjoP",
        "outputId": "653e0f24-76b7-4232-c854-b711135a5e56"
      },
      "outputs": [
        {
          "output_type": "error",
          "ename": "NameError",
          "evalue": "ignored",
          "traceback": [
            "\u001b[0;31m---------------------------------------------------------------------------\u001b[0m",
            "\u001b[0;31mNameError\u001b[0m                                 Traceback (most recent call last)",
            "\u001b[0;32m<ipython-input-28-77a7949ba908>\u001b[0m in \u001b[0;36m<module>\u001b[0;34m\u001b[0m\n\u001b[0;32m----> 1\u001b[0;31m \u001b[0mimg\u001b[0m\u001b[0;34m\u001b[0m\u001b[0;34m\u001b[0m\u001b[0m\n\u001b[0m",
            "\u001b[0;31mNameError\u001b[0m: name 'img' is not defined"
          ]
        }
      ],
      "source": [
        "img"
      ]
    },
    {
      "cell_type": "code",
      "execution_count": null,
      "metadata": {
        "id": "PF5Up2JAwjoS",
        "colab": {
          "base_uri": "https://localhost:8080/",
          "height": 165
        },
        "outputId": "4f16be0b-f9ec-4ee4-a574-208797287d66"
      },
      "outputs": [
        {
          "output_type": "error",
          "ename": "NameError",
          "evalue": "ignored",
          "traceback": [
            "\u001b[0;31m---------------------------------------------------------------------------\u001b[0m",
            "\u001b[0;31mNameError\u001b[0m                                 Traceback (most recent call last)",
            "\u001b[0;32m<ipython-input-29-35cc788a609b>\u001b[0m in \u001b[0;36m<module>\u001b[0;34m\u001b[0m\n\u001b[0;32m----> 1\u001b[0;31m \u001b[0mx\u001b[0m\u001b[0;34m=\u001b[0m\u001b[0mimage\u001b[0m\u001b[0;34m.\u001b[0m\u001b[0mimg_to_array\u001b[0m\u001b[0;34m(\u001b[0m\u001b[0mimg\u001b[0m\u001b[0;34m)\u001b[0m\u001b[0;34m\u001b[0m\u001b[0;34m\u001b[0m\u001b[0m\n\u001b[0m",
            "\u001b[0;31mNameError\u001b[0m: name 'img' is not defined"
          ]
        }
      ],
      "source": [
        "x=image.img_to_array(img)"
      ]
    },
    {
      "cell_type": "code",
      "execution_count": null,
      "metadata": {
        "id": "22L-L1TVwjoS",
        "colab": {
          "base_uri": "https://localhost:8080/",
          "height": 165
        },
        "outputId": "bdcf86b6-c781-4339-b5e6-c614248036c4"
      },
      "outputs": [
        {
          "output_type": "error",
          "ename": "NameError",
          "evalue": "ignored",
          "traceback": [
            "\u001b[0;31m---------------------------------------------------------------------------\u001b[0m",
            "\u001b[0;31mNameError\u001b[0m                                 Traceback (most recent call last)",
            "\u001b[0;32m<ipython-input-30-02ca1bbae910>\u001b[0m in \u001b[0;36m<module>\u001b[0;34m\u001b[0m\n\u001b[0;32m----> 1\u001b[0;31m \u001b[0mx\u001b[0m\u001b[0;34m.\u001b[0m\u001b[0mresize\u001b[0m\u001b[0;34m(\u001b[0m\u001b[0;36m128\u001b[0m\u001b[0;34m,\u001b[0m\u001b[0;36m128\u001b[0m\u001b[0;34m,\u001b[0m\u001b[0mrefcheck\u001b[0m\u001b[0;34m=\u001b[0m\u001b[0;32mFalse\u001b[0m\u001b[0;34m)\u001b[0m\u001b[0;34m\u001b[0m\u001b[0;34m\u001b[0m\u001b[0m\n\u001b[0m",
            "\u001b[0;31mNameError\u001b[0m: name 'x' is not defined"
          ]
        }
      ],
      "source": [
        "x.resize(128,128,refcheck=False)"
      ]
    },
    {
      "cell_type": "code",
      "execution_count": null,
      "metadata": {
        "colab": {
          "base_uri": "https://localhost:8080/",
          "height": 165
        },
        "id": "CXOZTCsWwjoT",
        "outputId": "ef8e8e80-1bc9-4488-8870-7c87cbe72b17"
      },
      "outputs": [
        {
          "output_type": "error",
          "ename": "NameError",
          "evalue": "ignored",
          "traceback": [
            "\u001b[0;31m---------------------------------------------------------------------------\u001b[0m",
            "\u001b[0;31mNameError\u001b[0m                                 Traceback (most recent call last)",
            "\u001b[0;32m<ipython-input-31-53b346520f3e>\u001b[0m in \u001b[0;36m<module>\u001b[0;34m\u001b[0m\n\u001b[0;32m----> 1\u001b[0;31m \u001b[0mx\u001b[0m\u001b[0;34m.\u001b[0m\u001b[0mshape\u001b[0m\u001b[0;34m(\u001b[0m\u001b[0;34m)\u001b[0m\u001b[0;34m\u001b[0m\u001b[0;34m\u001b[0m\u001b[0m\n\u001b[0m",
            "\u001b[0;31mNameError\u001b[0m: name 'x' is not defined"
          ]
        }
      ],
      "source": [
        "x.shape()"
      ]
    },
    {
      "cell_type": "code",
      "execution_count": null,
      "metadata": {
        "colab": {
          "base_uri": "https://localhost:8080/",
          "height": 183
        },
        "id": "EY14l0TOwjoT",
        "outputId": "1116ecf7-2e20-4dbc-f7a4-5e90ca0d35f6"
      },
      "outputs": [
        {
          "output_type": "error",
          "ename": "NameError",
          "evalue": "ignored",
          "traceback": [
            "\u001b[0;31m---------------------------------------------------------------------------\u001b[0m",
            "\u001b[0;31mNameError\u001b[0m                                 Traceback (most recent call last)",
            "\u001b[0;32m<ipython-input-32-5260427fd1bf>\u001b[0m in \u001b[0;36m<module>\u001b[0;34m\u001b[0m\n\u001b[0;32m----> 1\u001b[0;31m \u001b[0mplt\u001b[0m\u001b[0;34m.\u001b[0m\u001b[0mimshow\u001b[0m\u001b[0;34m(\u001b[0m\u001b[0mx\u001b[0m\u001b[0;34m,\u001b[0m\u001b[0mcmap\u001b[0m\u001b[0;34m=\u001b[0m\u001b[0mplt\u001b[0m\u001b[0;34m.\u001b[0m\u001b[0mcm\u001b[0m\u001b[0;34m.\u001b[0m\u001b[0mbinary\u001b[0m\u001b[0;34m)\u001b[0m\u001b[0;34m\u001b[0m\u001b[0;34m\u001b[0m\u001b[0m\n\u001b[0m\u001b[1;32m      2\u001b[0m \u001b[0mplt\u001b[0m\u001b[0;34m.\u001b[0m\u001b[0mshow\u001b[0m\u001b[0;34m(\u001b[0m\u001b[0;34m)\u001b[0m\u001b[0;34m\u001b[0m\u001b[0;34m\u001b[0m\u001b[0m\n",
            "\u001b[0;31mNameError\u001b[0m: name 'x' is not defined"
          ]
        }
      ],
      "source": [
        "plt.imshow(x,cmap=plt.cm.binary)\n",
        "plt.show()"
      ]
    },
    {
      "cell_type": "code",
      "source": [
        "#step 1:\n",
        "#using tensorflow to load image"
      ],
      "metadata": {
        "id": "jx2qBQRn4i3D"
      },
      "execution_count": null,
      "outputs": []
    },
    {
      "cell_type": "code",
      "source": [
        "from tensorflow.keras.preprocessing import image"
      ],
      "metadata": {
        "id": "Loy3ldfk5Nf9"
      },
      "execution_count": null,
      "outputs": []
    },
    {
      "cell_type": "code",
      "source": [
        "img=image.load_img(\"image6.png\",target_size=(28,28),grayscale=True, color_mode=\"grayscale\")\n",
        "## target_size===> so that the image should be load in 28x28 pixel"
      ],
      "metadata": {
        "id": "u_hIjAZ_41m9"
      },
      "execution_count": null,
      "outputs": []
    },
    {
      "cell_type": "code",
      "source": [
        "img"
      ],
      "metadata": {
        "colab": {
          "base_uri": "https://localhost:8080/",
          "height": 45
        },
        "id": "weTqF99i5BIN",
        "outputId": "d4d3ae7c-dc6e-49d9-cc53-8b1988b38377"
      },
      "execution_count": null,
      "outputs": [
        {
          "output_type": "execute_result",
          "data": {
            "text/plain": [
              "<PIL.Image.Image image mode=L size=28x28 at 0x7F439D706850>"
            ],
            "image/png": "[encoded data removed]"
          },
          "metadata": {},
          "execution_count": 41
        }
      ]
    },
    {
      "cell_type": "code",
      "source": [
        " #step 2:\n",
        " #converting image into array\n",
        " img_arr=image.img_to_array(img)\n"
      ],
      "metadata": {
        "id": "Un08hWqq5h6C"
      },
      "execution_count": null,
      "outputs": []
    },
    {
      "cell_type": "code",
      "source": [
        "img_arr"
      ],
      "metadata": {
        "colab": {
          "base_uri": "https://localhost:8080/"
        },
        "id": "TEDnJzE36VP9",
        "outputId": "e7915830-4224-42a9-c663-c7463f0252c7"
      },
      "execution_count": null,
      "outputs": [
        {
          "output_type": "execute_result",
          "data": {
            "text/plain": [
              "array([[[255.],\n",
              "        [255.],\n",
              "        [255.],\n",
              "        [255.],\n",
              "        [255.],\n",
              "        [255.],\n",
              "        [255.],\n",
              "        [255.],\n",
              "        [255.],\n",
              "        [255.],\n",
              "        [255.],\n",
              "        [255.],\n",
              "        [255.],\n",
              "        [255.],\n",
              "        [255.],\n",
              "        [255.],\n",
              "        [255.],\n",
              "        [255.],\n",
              "        [255.],\n",
              "        [255.],\n",
              "        [255.],\n",
              "        [255.],\n",
              "        [255.],\n",
              "        [255.],\n",
              "        [255.],\n",
              "        [255.],\n",
              "        [255.],\n",
              "        [255.]],\n",
              "\n",
              "       [[255.],\n",
              "        [249.],\n",
              "        [ 94.],\n",
              "        [255.],\n",
              "        [255.],\n",
              "        [255.],\n",
              "        [255.],\n",
              "        [255.],\n",
              "        [255.],\n",
              "        [255.],\n",
              "        [255.],\n",
              "        [255.],\n",
              "        [255.],\n",
              "        [255.],\n",
              "        [255.],\n",
              "        [255.],\n",
              "        [255.],\n",
              "        [255.],\n",
              "        [255.],\n",
              "        [255.],\n",
              "        [255.],\n",
              "        [255.],\n",
              "        [255.],\n",
              "        [255.],\n",
              "        [255.],\n",
              "        [221.],\n",
              "        [255.],\n",
              "        [255.]],\n",
              "\n",
              "       [[255.],\n",
              "        [255.],\n",
              "        [255.],\n",
              "        [255.],\n",
              "        [255.],\n",
              "        [255.],\n",
              "        [255.],\n",
              "        [255.],\n",
              "        [255.],\n",
              "        [255.],\n",
              "        [255.],\n",
              "        [255.],\n",
              "        [255.],\n",
              "        [255.],\n",
              "        [255.],\n",
              "        [255.],\n",
              "        [255.],\n",
              "        [255.],\n",
              "        [255.],\n",
              "        [255.],\n",
              "        [255.],\n",
              "        [255.],\n",
              "        [255.],\n",
              "        [255.],\n",
              "        [255.],\n",
              "        [221.],\n",
              "        [255.],\n",
              "        [255.]],\n",
              "\n",
              "       [[255.],\n",
              "        [255.],\n",
              "        [255.],\n",
              "        [255.],\n",
              "        [255.],\n",
              "        [255.],\n",
              "        [255.],\n",
              "        [255.],\n",
              "        [255.],\n",
              "        [255.],\n",
              "        [255.],\n",
              "        [255.],\n",
              "        [255.],\n",
              "        [255.],\n",
              "        [255.],\n",
              "        [255.],\n",
              "        [221.],\n",
              "        [193.],\n",
              "        [140.],\n",
              "        [235.],\n",
              "        [255.],\n",
              "        [255.],\n",
              "        [255.],\n",
              "        [255.],\n",
              "        [255.],\n",
              "        [221.],\n",
              "        [255.],\n",
              "        [255.]],\n",
              "\n",
              "       [[255.],\n",
              "        [255.],\n",
              "        [255.],\n",
              "        [255.],\n",
              "        [255.],\n",
              "        [255.],\n",
              "        [255.],\n",
              "        [255.],\n",
              "        [255.],\n",
              "        [255.],\n",
              "        [255.],\n",
              "        [255.],\n",
              "        [255.],\n",
              "        [255.],\n",
              "        [255.],\n",
              "        [255.],\n",
              "        [  0.],\n",
              "        [  0.],\n",
              "        [132.],\n",
              "        [255.],\n",
              "        [255.],\n",
              "        [255.],\n",
              "        [255.],\n",
              "        [255.],\n",
              "        [255.],\n",
              "        [221.],\n",
              "        [255.],\n",
              "        [255.]],\n",
              "\n",
              "       [[255.],\n",
              "        [165.],\n",
              "        [255.],\n",
              "        [255.],\n",
              "        [255.],\n",
              "        [255.],\n",
              "        [255.],\n",
              "        [255.],\n",
              "        [255.],\n",
              "        [255.],\n",
              "        [255.],\n",
              "        [255.],\n",
              "        [255.],\n",
              "        [255.],\n",
              "        [255.],\n",
              "        [ 75.],\n",
              "        [ 14.],\n",
              "        [185.],\n",
              "        [246.],\n",
              "        [255.],\n",
              "        [255.],\n",
              "        [255.],\n",
              "        [255.],\n",
              "        [255.],\n",
              "        [255.],\n",
              "        [221.],\n",
              "        [255.],\n",
              "        [255.]],\n",
              "\n",
              "       [[255.],\n",
              "        [255.],\n",
              "        [255.],\n",
              "        [255.],\n",
              "        [255.],\n",
              "        [255.],\n",
              "        [255.],\n",
              "        [255.],\n",
              "        [255.],\n",
              "        [255.],\n",
              "        [255.],\n",
              "        [255.],\n",
              "        [255.],\n",
              "        [252.],\n",
              "        [ 87.],\n",
              "        [  0.],\n",
              "        [159.],\n",
              "        [255.],\n",
              "        [255.],\n",
              "        [255.],\n",
              "        [255.],\n",
              "        [255.],\n",
              "        [255.],\n",
              "        [255.],\n",
              "        [255.],\n",
              "        [221.],\n",
              "        [255.],\n",
              "        [255.]],\n",
              "\n",
              "       [[255.],\n",
              "        [255.],\n",
              "        [255.],\n",
              "        [255.],\n",
              "        [255.],\n",
              "        [255.],\n",
              "        [255.],\n",
              "        [255.],\n",
              "        [255.],\n",
              "        [255.],\n",
              "        [255.],\n",
              "        [255.],\n",
              "        [252.],\n",
              "        [118.],\n",
              "        [  0.],\n",
              "        [  0.],\n",
              "        [255.],\n",
              "        [255.],\n",
              "        [255.],\n",
              "        [255.],\n",
              "        [255.],\n",
              "        [255.],\n",
              "        [255.],\n",
              "        [255.],\n",
              "        [255.],\n",
              "        [221.],\n",
              "        [255.],\n",
              "        [255.]],\n",
              "\n",
              "       [[255.],\n",
              "        [255.],\n",
              "        [255.],\n",
              "        [255.],\n",
              "        [255.],\n",
              "        [255.],\n",
              "        [255.],\n",
              "        [255.],\n",
              "        [255.],\n",
              "        [255.],\n",
              "        [255.],\n",
              "        [255.],\n",
              "        [185.],\n",
              "        [  0.],\n",
              "        [  0.],\n",
              "        [140.],\n",
              "        [255.],\n",
              "        [255.],\n",
              "        [255.],\n",
              "        [255.],\n",
              "        [255.],\n",
              "        [255.],\n",
              "        [255.],\n",
              "        [255.],\n",
              "        [255.],\n",
              "        [221.],\n",
              "        [255.],\n",
              "        [255.]],\n",
              "\n",
              "       [[255.],\n",
              "        [255.],\n",
              "        [255.],\n",
              "        [255.],\n",
              "        [255.],\n",
              "        [255.],\n",
              "        [255.],\n",
              "        [255.],\n",
              "        [255.],\n",
              "        [255.],\n",
              "        [255.],\n",
              "        [255.],\n",
              "        [ 34.],\n",
              "        [  0.],\n",
              "        [110.],\n",
              "        [255.],\n",
              "        [255.],\n",
              "        [255.],\n",
              "        [255.],\n",
              "        [255.],\n",
              "        [255.],\n",
              "        [255.],\n",
              "        [255.],\n",
              "        [255.],\n",
              "        [255.],\n",
              "        [221.],\n",
              "        [255.],\n",
              "        [255.]],\n",
              "\n",
              "       [[255.],\n",
              "        [ 60.],\n",
              "        [255.],\n",
              "        [255.],\n",
              "        [255.],\n",
              "        [255.],\n",
              "        [255.],\n",
              "        [255.],\n",
              "        [255.],\n",
              "        [255.],\n",
              "        [255.],\n",
              "        [211.],\n",
              "        [  0.],\n",
              "        [132.],\n",
              "        [255.],\n",
              "        [255.],\n",
              "        [255.],\n",
              "        [255.],\n",
              "        [255.],\n",
              "        [255.],\n",
              "        [255.],\n",
              "        [255.],\n",
              "        [255.],\n",
              "        [255.],\n",
              "        [255.],\n",
              "        [221.],\n",
              "        [255.],\n",
              "        [255.]],\n",
              "\n",
              "       [[255.],\n",
              "        [255.],\n",
              "        [255.],\n",
              "        [255.],\n",
              "        [255.],\n",
              "        [255.],\n",
              "        [255.],\n",
              "        [255.],\n",
              "        [255.],\n",
              "        [191.],\n",
              "        [  0.],\n",
              "        [  0.],\n",
              "        [255.],\n",
              "        [255.],\n",
              "        [255.],\n",
              "        [255.],\n",
              "        [255.],\n",
              "        [211.],\n",
              "        [171.],\n",
              "        [ 56.],\n",
              "        [  0.],\n",
              "        [  0.],\n",
              "        [118.],\n",
              "        [255.],\n",
              "        [255.],\n",
              "        [221.],\n",
              "        [255.],\n",
              "        [255.]],\n",
              "\n",
              "       [[255.],\n",
              "        [255.],\n",
              "        [255.],\n",
              "        [255.],\n",
              "        [255.],\n",
              "        [255.],\n",
              "        [255.],\n",
              "        [255.],\n",
              "        [165.],\n",
              "        [ 14.],\n",
              "        [  0.],\n",
              "        [ 73.],\n",
              "        [255.],\n",
              "        [255.],\n",
              "        [255.],\n",
              "        [255.],\n",
              "        [ 73.],\n",
              "        [  8.],\n",
              "        [  0.],\n",
              "        [ 34.],\n",
              "        [ 85.],\n",
              "        [ 14.],\n",
              "        [ 34.],\n",
              "        [255.],\n",
              "        [255.],\n",
              "        [221.],\n",
              "        [255.],\n",
              "        [255.]],\n",
              "\n",
              "       [[255.],\n",
              "        [255.],\n",
              "        [255.],\n",
              "        [255.],\n",
              "        [255.],\n",
              "        [255.],\n",
              "        [255.],\n",
              "        [255.],\n",
              "        [ 14.],\n",
              "        [  0.],\n",
              "        [ 48.],\n",
              "        [235.],\n",
              "        [255.],\n",
              "        [255.],\n",
              "        [255.],\n",
              "        [159.],\n",
              "        [  0.],\n",
              "        [ 34.],\n",
              "        [126.],\n",
              "        [246.],\n",
              "        [255.],\n",
              "        [126.],\n",
              "        [ 23.],\n",
              "        [255.],\n",
              "        [255.],\n",
              "        [221.],\n",
              "        [255.],\n",
              "        [255.]],\n",
              "\n",
              "       [[255.],\n",
              "        [ 94.],\n",
              "        [159.],\n",
              "        [255.],\n",
              "        [255.],\n",
              "        [255.],\n",
              "        [255.],\n",
              "        [255.],\n",
              "        [  0.],\n",
              "        [ 34.],\n",
              "        [221.],\n",
              "        [255.],\n",
              "        [255.],\n",
              "        [252.],\n",
              "        [140.],\n",
              "        [  8.],\n",
              "        [110.],\n",
              "        [235.],\n",
              "        [255.],\n",
              "        [255.],\n",
              "        [211.],\n",
              "        [  0.],\n",
              "        [110.],\n",
              "        [255.],\n",
              "        [255.],\n",
              "        [221.],\n",
              "        [255.],\n",
              "        [255.]],\n",
              "\n",
              "       [[255.],\n",
              "        [255.],\n",
              "        [255.],\n",
              "        [255.],\n",
              "        [255.],\n",
              "        [255.],\n",
              "        [255.],\n",
              "        [178.],\n",
              "        [  8.],\n",
              "        [221.],\n",
              "        [255.],\n",
              "        [255.],\n",
              "        [252.],\n",
              "        [110.],\n",
              "        [  0.],\n",
              "        [ 56.],\n",
              "        [255.],\n",
              "        [255.],\n",
              "        [246.],\n",
              "        [171.],\n",
              "        [ 56.],\n",
              "        [102.],\n",
              "        [246.],\n",
              "        [255.],\n",
              "        [255.],\n",
              "        [221.],\n",
              "        [255.],\n",
              "        [255.]],\n",
              "\n",
              "       [[255.],\n",
              "        [255.],\n",
              "        [255.],\n",
              "        [255.],\n",
              "        [255.],\n",
              "        [255.],\n",
              "        [255.],\n",
              "        [ 48.],\n",
              "        [110.],\n",
              "        [255.],\n",
              "        [255.],\n",
              "        [255.],\n",
              "        [191.],\n",
              "        [  0.],\n",
              "        [ 14.],\n",
              "        [208.],\n",
              "        [241.],\n",
              "        [165.],\n",
              "        [ 75.],\n",
              "        [ 14.],\n",
              "        [ 81.],\n",
              "        [246.],\n",
              "        [255.],\n",
              "        [255.],\n",
              "        [255.],\n",
              "        [221.],\n",
              "        [255.],\n",
              "        [255.]],\n",
              "\n",
              "       [[255.],\n",
              "        [255.],\n",
              "        [255.],\n",
              "        [255.],\n",
              "        [255.],\n",
              "        [255.],\n",
              "        [255.],\n",
              "        [ 81.],\n",
              "        [  0.],\n",
              "        [ 34.],\n",
              "        [ 39.],\n",
              "        [ 39.],\n",
              "        [  8.],\n",
              "        [  0.],\n",
              "        [  0.],\n",
              "        [  0.],\n",
              "        [105.],\n",
              "        [193.],\n",
              "        [255.],\n",
              "        [255.],\n",
              "        [255.],\n",
              "        [255.],\n",
              "        [255.],\n",
              "        [255.],\n",
              "        [255.],\n",
              "        [221.],\n",
              "        [255.],\n",
              "        [255.]],\n",
              "\n",
              "       [[255.],\n",
              "        [255.],\n",
              "        [255.],\n",
              "        [255.],\n",
              "        [255.],\n",
              "        [255.],\n",
              "        [255.],\n",
              "        [241.],\n",
              "        [  8.],\n",
              "        [  0.],\n",
              "        [  0.],\n",
              "        [  8.],\n",
              "        [  8.],\n",
              "        [ 73.],\n",
              "        [126.],\n",
              "        [185.],\n",
              "        [255.],\n",
              "        [255.],\n",
              "        [255.],\n",
              "        [255.],\n",
              "        [255.],\n",
              "        [255.],\n",
              "        [255.],\n",
              "        [255.],\n",
              "        [255.],\n",
              "        [221.],\n",
              "        [255.],\n",
              "        [255.]],\n",
              "\n",
              "       [[255.],\n",
              "        [255.],\n",
              "        [255.],\n",
              "        [255.],\n",
              "        [255.],\n",
              "        [255.],\n",
              "        [255.],\n",
              "        [255.],\n",
              "        [208.],\n",
              "        [178.],\n",
              "        [178.],\n",
              "        [241.],\n",
              "        [255.],\n",
              "        [255.],\n",
              "        [255.],\n",
              "        [255.],\n",
              "        [255.],\n",
              "        [255.],\n",
              "        [255.],\n",
              "        [255.],\n",
              "        [255.],\n",
              "        [255.],\n",
              "        [255.],\n",
              "        [255.],\n",
              "        [255.],\n",
              "        [221.],\n",
              "        [255.],\n",
              "        [255.]],\n",
              "\n",
              "       [[255.],\n",
              "        [255.],\n",
              "        [255.],\n",
              "        [255.],\n",
              "        [255.],\n",
              "        [255.],\n",
              "        [255.],\n",
              "        [255.],\n",
              "        [255.],\n",
              "        [255.],\n",
              "        [255.],\n",
              "        [255.],\n",
              "        [255.],\n",
              "        [255.],\n",
              "        [255.],\n",
              "        [255.],\n",
              "        [255.],\n",
              "        [255.],\n",
              "        [255.],\n",
              "        [255.],\n",
              "        [255.],\n",
              "        [255.],\n",
              "        [255.],\n",
              "        [255.],\n",
              "        [255.],\n",
              "        [221.],\n",
              "        [255.],\n",
              "        [255.]],\n",
              "\n",
              "       [[255.],\n",
              "        [255.],\n",
              "        [255.],\n",
              "        [255.],\n",
              "        [255.],\n",
              "        [255.],\n",
              "        [255.],\n",
              "        [255.],\n",
              "        [255.],\n",
              "        [255.],\n",
              "        [255.],\n",
              "        [255.],\n",
              "        [255.],\n",
              "        [255.],\n",
              "        [255.],\n",
              "        [255.],\n",
              "        [255.],\n",
              "        [255.],\n",
              "        [255.],\n",
              "        [255.],\n",
              "        [255.],\n",
              "        [255.],\n",
              "        [255.],\n",
              "        [255.],\n",
              "        [255.],\n",
              "        [221.],\n",
              "        [255.],\n",
              "        [255.]],\n",
              "\n",
              "       [[255.],\n",
              "        [255.],\n",
              "        [255.],\n",
              "        [255.],\n",
              "        [255.],\n",
              "        [255.],\n",
              "        [255.],\n",
              "        [255.],\n",
              "        [255.],\n",
              "        [255.],\n",
              "        [255.],\n",
              "        [255.],\n",
              "        [255.],\n",
              "        [255.],\n",
              "        [255.],\n",
              "        [255.],\n",
              "        [255.],\n",
              "        [255.],\n",
              "        [255.],\n",
              "        [255.],\n",
              "        [255.],\n",
              "        [255.],\n",
              "        [255.],\n",
              "        [255.],\n",
              "        [255.],\n",
              "        [221.],\n",
              "        [255.],\n",
              "        [255.]],\n",
              "\n",
              "       [[255.],\n",
              "        [171.],\n",
              "        [255.],\n",
              "        [255.],\n",
              "        [255.],\n",
              "        [255.],\n",
              "        [255.],\n",
              "        [255.],\n",
              "        [255.],\n",
              "        [255.],\n",
              "        [255.],\n",
              "        [255.],\n",
              "        [255.],\n",
              "        [255.],\n",
              "        [255.],\n",
              "        [255.],\n",
              "        [255.],\n",
              "        [255.],\n",
              "        [255.],\n",
              "        [255.],\n",
              "        [255.],\n",
              "        [255.],\n",
              "        [255.],\n",
              "        [255.],\n",
              "        [255.],\n",
              "        [221.],\n",
              "        [255.],\n",
              "        [255.]],\n",
              "\n",
              "       [[255.],\n",
              "        [255.],\n",
              "        [255.],\n",
              "        [255.],\n",
              "        [255.],\n",
              "        [255.],\n",
              "        [255.],\n",
              "        [255.],\n",
              "        [255.],\n",
              "        [255.],\n",
              "        [255.],\n",
              "        [255.],\n",
              "        [255.],\n",
              "        [255.],\n",
              "        [255.],\n",
              "        [255.],\n",
              "        [255.],\n",
              "        [255.],\n",
              "        [255.],\n",
              "        [255.],\n",
              "        [255.],\n",
              "        [255.],\n",
              "        [255.],\n",
              "        [255.],\n",
              "        [255.],\n",
              "        [221.],\n",
              "        [255.],\n",
              "        [255.]],\n",
              "\n",
              "       [[255.],\n",
              "        [255.],\n",
              "        [255.],\n",
              "        [255.],\n",
              "        [255.],\n",
              "        [255.],\n",
              "        [255.],\n",
              "        [255.],\n",
              "        [255.],\n",
              "        [255.],\n",
              "        [255.],\n",
              "        [255.],\n",
              "        [255.],\n",
              "        [255.],\n",
              "        [255.],\n",
              "        [255.],\n",
              "        [255.],\n",
              "        [255.],\n",
              "        [255.],\n",
              "        [255.],\n",
              "        [255.],\n",
              "        [255.],\n",
              "        [255.],\n",
              "        [ 81.],\n",
              "        [255.],\n",
              "        [255.],\n",
              "        [255.],\n",
              "        [255.]],\n",
              "\n",
              "       [[255.],\n",
              "        [255.],\n",
              "        [255.],\n",
              "        [255.],\n",
              "        [255.],\n",
              "        [255.],\n",
              "        [255.],\n",
              "        [225.],\n",
              "        [255.],\n",
              "        [255.],\n",
              "        [255.],\n",
              "        [255.],\n",
              "        [255.],\n",
              "        [255.],\n",
              "        [255.],\n",
              "        [255.],\n",
              "        [255.],\n",
              "        [255.],\n",
              "        [255.],\n",
              "        [ 23.],\n",
              "        [255.],\n",
              "        [255.],\n",
              "        [255.],\n",
              "        [246.],\n",
              "        [255.],\n",
              "        [255.],\n",
              "        [255.],\n",
              "        [255.]],\n",
              "\n",
              "       [[255.],\n",
              "        [255.],\n",
              "        [255.],\n",
              "        [255.],\n",
              "        [255.],\n",
              "        [255.],\n",
              "        [255.],\n",
              "        [255.],\n",
              "        [255.],\n",
              "        [255.],\n",
              "        [255.],\n",
              "        [255.],\n",
              "        [255.],\n",
              "        [255.],\n",
              "        [255.],\n",
              "        [255.],\n",
              "        [255.],\n",
              "        [255.],\n",
              "        [255.],\n",
              "        [255.],\n",
              "        [255.],\n",
              "        [255.],\n",
              "        [255.],\n",
              "        [255.],\n",
              "        [255.],\n",
              "        [255.],\n",
              "        [255.],\n",
              "        [255.]]], dtype=float32)"
            ]
          },
          "metadata": {},
          "execution_count": 43
        }
      ]
    },
    {
      "cell_type": "code",
      "source": [
        "img_arr.shape"
      ],
      "metadata": {
        "colab": {
          "base_uri": "https://localhost:8080/"
        },
        "id": "D5xI0lUl6ZAJ",
        "outputId": "9f4fe8de-2eb9-4815-dcda-f1f69028c998"
      },
      "execution_count": null,
      "outputs": [
        {
          "output_type": "execute_result",
          "data": {
            "text/plain": [
              "(28, 28, 1)"
            ]
          },
          "metadata": {},
          "execution_count": 44
        }
      ]
    },
    {
      "cell_type": "code",
      "source": [
        "type(img_arr)"
      ],
      "metadata": {
        "colab": {
          "base_uri": "https://localhost:8080/"
        },
        "id": "kqP0KnSL-1tQ",
        "outputId": "8af30fd8-7a5c-4736-b9d3-c73082bc4359"
      },
      "execution_count": null,
      "outputs": [
        {
          "output_type": "execute_result",
          "data": {
            "text/plain": [
              "numpy.ndarray"
            ]
          },
          "metadata": {},
          "execution_count": 45
        }
      ]
    },
    {
      "cell_type": "code",
      "source": [
        "img_arr=img_arr.reshape(28,28)"
      ],
      "metadata": {
        "id": "P5QB3R-bBAKv"
      },
      "execution_count": null,
      "outputs": []
    },
    {
      "cell_type": "code",
      "source": [
        "img_arr.shape"
      ],
      "metadata": {
        "colab": {
          "base_uri": "https://localhost:8080/"
        },
        "id": "RNtSZFyCBK1-",
        "outputId": "94251738-be09-4c41-e2c3-508642dbc3e4"
      },
      "execution_count": null,
      "outputs": [
        {
          "output_type": "execute_result",
          "data": {
            "text/plain": [
              "(28, 28)"
            ]
          },
          "metadata": {},
          "execution_count": 47
        }
      ]
    },
    {
      "cell_type": "code",
      "source": [
        "img_arr=img_arr.reshape(784)"
      ],
      "metadata": {
        "id": "fBI4cu2aBQIb"
      },
      "execution_count": null,
      "outputs": []
    },
    {
      "cell_type": "code",
      "source": [
        "img_arr.shape"
      ],
      "metadata": {
        "colab": {
          "base_uri": "https://localhost:8080/"
        },
        "id": "tE-M-SVaBeYS",
        "outputId": "a3578d05-f255-4c75-97d6-ee767d0f80bf"
      },
      "execution_count": null,
      "outputs": [
        {
          "output_type": "execute_result",
          "data": {
            "text/plain": [
              "(784,)"
            ]
          },
          "metadata": {},
          "execution_count": 49
        }
      ]
    },
    {
      "cell_type": "code",
      "source": [
        "#Now Predicting using the above trained model named \"network\""
      ],
      "metadata": {
        "id": "Q_l_7x2kBf6O"
      },
      "execution_count": null,
      "outputs": []
    },
    {
      "cell_type": "code",
      "source": [
        "network.predict(img_arr.reshape(1,784))"
      ],
      "metadata": {
        "colab": {
          "base_uri": "https://localhost:8080/"
        },
        "id": "kW9myqVwDOZI",
        "outputId": "36856fc1-d2bc-4be1-ce35-384ee9730285"
      },
      "execution_count": null,
      "outputs": [
        {
          "output_type": "stream",
          "name": "stdout",
          "text": [
            "1/1 [==============================] - 0s 82ms/step\n"
          ]
        },
        {
          "output_type": "execute_result",
          "data": {
            "text/plain": [
              "array([[0., 0., 0., 0., 0., 1., 0., 0., 0., 0.]], dtype=float32)"
            ]
          },
          "metadata": {},
          "execution_count": 51
        }
      ]
    },
    {
      "cell_type": "code",
      "source": [
        "probs=network.predict(img_arr.reshape(1,784))"
      ],
      "metadata": {
        "colab": {
          "base_uri": "https://localhost:8080/"
        },
        "id": "hlPbtBKmBrY7",
        "outputId": "23c88c04-6fae-42a5-a250-d5182f54075b"
      },
      "execution_count": null,
      "outputs": [
        {
          "output_type": "stream",
          "name": "stdout",
          "text": [
            "1/1 [==============================] - 0s 23ms/step\n"
          ]
        }
      ]
    },
    {
      "cell_type": "code",
      "source": [
        "probs.argmax()"
      ],
      "metadata": {
        "colab": {
          "base_uri": "https://localhost:8080/"
        },
        "id": "KVmzW_e3BwPf",
        "outputId": "00ada406-6c89-4859-a60a-228bc87ba0a6"
      },
      "execution_count": null,
      "outputs": [
        {
          "output_type": "execute_result",
          "data": {
            "text/plain": [
              "5"
            ]
          },
          "metadata": {},
          "execution_count": 53
        }
      ]
    },
    {
      "cell_type": "code",
      "source": [
        " #Saving the Model"
      ],
      "metadata": {
        "id": "yTv1GMGtDMUZ"
      },
      "execution_count": null,
      "outputs": []
    },
    {
      "cell_type": "code",
      "source": [
        "network.save(\"handwrittendigitclassifier.sav\")    "
      ],
      "metadata": {
        "colab": {
          "base_uri": "https://localhost:8080/"
        },
        "id": "4vNDkKjjEDwm",
        "outputId": "b6a499e4-c65f-4ce0-bbd0-dafea3200c4b"
      },
      "execution_count": null,
      "outputs": [
        {
          "output_type": "stream",
          "name": "stderr",
          "text": [
            "WARNING:absl:Found untraced functions such as _update_step_xla while saving (showing 1 of 1). These functions will not be directly callable after loading.\n"
          ]
        }
      ]
    },
    {
      "cell_type": "code",
      "source": [
        "#loading the model"
      ],
      "metadata": {
        "id": "DnTsUQnXE_iI"
      },
      "execution_count": null,
      "outputs": []
    },
    {
      "cell_type": "code",
      "source": [
        "import keras"
      ],
      "metadata": {
        "id": "TnC6PgwnFTyx"
      },
      "execution_count": null,
      "outputs": []
    },
    {
      "cell_type": "code",
      "source": [
        "model=keras.models.load_model(\"handwrittendigitclassifier.sav\")"
      ],
      "metadata": {
        "id": "8UqXsoE1FCzS"
      },
      "execution_count": null,
      "outputs": []
    },
    {
      "cell_type": "code",
      "source": [
        "model.summary()"
      ],
      "metadata": {
        "colab": {
          "base_uri": "https://localhost:8080/"
        },
        "id": "gBl-D3x-FIiy",
        "outputId": "b830100a-0eee-4f1a-8e8e-42ccaf9974a9"
      },
      "execution_count": null,
      "outputs": [
        {
          "output_type": "stream",
          "name": "stdout",
          "text": [
            "Model: \"sequential\"\n",
            "_________________________________________________________________\n",
            " Layer (type)                Output Shape              Param #   \n",
            "=================================================================\n",
            " dense (Dense)               (None, 512)               401920    \n",
            "                                                                 \n",
            " dense_1 (Dense)             (None, 10)                5130      \n",
            "                                                                 \n",
            "=================================================================\n",
            "Total params: 407,050\n",
            "Trainable params: 407,050\n",
            "Non-trainable params: 0\n",
            "_________________________________________________________________\n"
          ]
        }
      ]
    },
    {
      "cell_type": "code",
      "source": [
        "model.predict(img_arr.reshape(1,784))"
      ],
      "metadata": {
        "colab": {
          "base_uri": "https://localhost:8080/"
        },
        "id": "kojJhtaCFb0C",
        "outputId": "78cffdd9-9661-48b2-d7ba-9d83f27ba27b"
      },
      "execution_count": null,
      "outputs": [
        {
          "output_type": "stream",
          "name": "stdout",
          "text": [
            "1/1 [==============================] - 0s 54ms/step\n"
          ]
        },
        {
          "output_type": "execute_result",
          "data": {
            "text/plain": [
              "array([[0., 0., 0., 0., 0., 1., 0., 0., 0., 0.]], dtype=float32)"
            ]
          },
          "metadata": {},
          "execution_count": 60
        }
      ]
    }
  ]
}